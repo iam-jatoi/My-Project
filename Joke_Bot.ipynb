{
  "nbformat": 4,
  "nbformat_minor": 0,
  "metadata": {
    "colab": {
      "provenance": [],
      "authorship_tag": "ABX9TyNJlJLP3ZoWN/vzaZR+yq0c",
      "include_colab_link": true
    },
    "kernelspec": {
      "name": "python3",
      "display_name": "Python 3"
    },
    "language_info": {
      "name": "python"
    }
  },
  "cells": [
    {
      "cell_type": "markdown",
      "metadata": {
        "id": "view-in-github",
        "colab_type": "text"
      },
      "source": [
        "<a href=\"https://colab.research.google.com/github/iam-jatoi/My-Project/blob/main/Joke_Bot.ipynb\" target=\"_parent\"><img src=\"https://colab.research.google.com/assets/colab-badge.svg\" alt=\"Open In Colab\"/></a>"
      ]
    },
    {
      "cell_type": "code",
      "execution_count": 6,
      "metadata": {
        "colab": {
          "base_uri": "https://localhost:8080/"
        },
        "id": "N_EQZIItZs_u",
        "outputId": "dd2e304c-69e0-4aab-bfa3-123d0be61899"
      },
      "outputs": [
        {
          "output_type": "stream",
          "name": "stdout",
          "text": [
            "What Do You Want? Hi\n",
            "I Don't Understand\n"
          ]
        }
      ],
      "source": [
        "Joke = \"Here is a joke for you! Panaversity GPT - Sophia is heading out to the grocery store. A programmer tells her: get a liter of milk, and if they have eggs, get 12. Sophia returns with 13 liters of milk. The programmer asks why and Sophia replies: 'because they had eggs.'\"\n",
        "Sorry = \"I Only Tell Jokes\"\n",
        "\n",
        "def bot():\n",
        "    user_input = input(\"What Do You Want? \")\n",
        "\n",
        "    if \"Joke\" in user_input:  # Fixed variable name\n",
        "        print(Joke)\n",
        "    else:\n",
        "        print(\"I Don't Understand\")\n",
        "\n",
        "bot()\n"
      ]
    }
  ]
}