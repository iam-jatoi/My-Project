{
  "nbformat": 4,
  "nbformat_minor": 0,
  "metadata": {
    "colab": {
      "provenance": [],
      "authorship_tag": "ABX9TyMECT7J8bOkdOjSe4L0q/pO",
      "include_colab_link": true
    },
    "kernelspec": {
      "name": "python3",
      "display_name": "Python 3"
    },
    "language_info": {
      "name": "python"
    }
  },
  "cells": [
    {
      "cell_type": "markdown",
      "metadata": {
        "id": "view-in-github",
        "colab_type": "text"
      },
      "source": [
        "<a href=\"https://colab.research.google.com/github/iam-jatoi/My-Project/blob/main/Guess_Number.ipynb\" target=\"_parent\"><img src=\"https://colab.research.google.com/assets/colab-badge.svg\" alt=\"Open In Colab\"/></a>"
      ]
    },
    {
      "cell_type": "code",
      "execution_count": null,
      "metadata": {
        "id": "PiGs4HPsdqOz"
      },
      "outputs": [],
      "source": [
        "import random\n",
        "\n",
        "def guess_number():\n",
        "    number = random.randint(1, 100)  # Generate a random number between 1 and 100\n",
        "    attempts = 0\n",
        "\n",
        "    print(\"🎯 Welcome to the Guess the Number Game!\")\n",
        "    print(\"🔢 I have selected a number between 1 and 100. Try to guess it!\")\n",
        "\n",
        "    while True:\n",
        "        try:\n",
        "            guess = int(input(\"Enter your guess: \"))\n",
        "            attempts += 1\n",
        "\n",
        "            if guess < number:\n",
        "                print(\"📉 Too low! Try again.\")\n",
        "            elif guess > number:\n",
        "                print(\"📈 Too high! Try again.\")\n",
        "            else:\n",
        "                print(f\"🎉 Congratulations! You guessed the number {number} in {attempts} attempts.\")\n",
        "                break\n",
        "        except ValueError:\n",
        "            print(\"❌ Invalid input! Please enter a number.\")\n",
        "\n",
        "# Run the game\n",
        "guess_number()\n"
      ]
    }
  ]
}