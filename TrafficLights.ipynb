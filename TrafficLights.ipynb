{
  "nbformat": 4,
  "nbformat_minor": 0,
  "metadata": {
    "colab": {
      "provenance": [],
      "authorship_tag": "ABX9TyPlCtzfcsOlIx5xQQeCUupo",
      "include_colab_link": true
    },
    "kernelspec": {
      "name": "python3",
      "display_name": "Python 3"
    },
    "language_info": {
      "name": "python"
    }
  },
  "cells": [
    {
      "cell_type": "markdown",
      "metadata": {
        "id": "view-in-github",
        "colab_type": "text"
      },
      "source": [
        "<a href=\"https://colab.research.google.com/github/iam-jatoi/My-Project/blob/main/TrafficLights.ipynb\" target=\"_parent\"><img src=\"https://colab.research.google.com/assets/colab-badge.svg\" alt=\"Open In Colab\"/></a>"
      ]
    },
    {
      "cell_type": "markdown",
      "source": [
        "**TRAFFIC LIGHTS PROJECT**"
      ],
      "metadata": {
        "id": "4N_aug8bDxh0"
      }
    },
    {
      "cell_type": "code",
      "source": [
        "import time\n",
        "from enum import Enum\n",
        "\n",
        "class TrafficLight(Enum):\n",
        "    Red = \"Please Stop\"\n",
        "    Yellow = \"Get Ready\"\n",
        "    Green = \"Go Now\"\n",
        "\n",
        "def traffic_simulator():\n",
        "    while True:\n",
        "        for signal in TrafficLight:\n",
        "            print(f\"🚦 {signal.name} - {signal.value}\")\n",
        "            time.sleep(2)\n",
        "            print(\"\\n ⏳ Waiting For Next Cycle... \\n\")\n",
        "            time.sleep(3)\n",
        "\n",
        "\n",
        "traffic_simulator()\n"
      ],
      "metadata": {
        "id": "RpRBVHFPPCTl"
      },
      "execution_count": null,
      "outputs": []
    }
  ]
}